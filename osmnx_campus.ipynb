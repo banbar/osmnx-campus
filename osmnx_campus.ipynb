{
 "cells": [
  {
   "cell_type": "markdown",
   "id": "6b7a5f34-5551-4b31-851a-0e948e48bb81",
   "metadata": {},
   "source": [
    "# OSMnx Analysis\n",
    "This analysis is useful to observe the overall structure and situation of the road network by relying on OSMnx. \n",
    "Specifically, dead-end nodes should be examined to determine where OSM updates are needed."
   ]
  },
  {
   "cell_type": "code",
   "execution_count": 8,
   "id": "e51f093c-927a-40fa-a73b-fdb674eb7941",
   "metadata": {
    "scrolled": true
   },
   "outputs": [
    {
     "name": "stdout",
     "output_type": "stream",
     "text": [
      "Name: osmnx\n",
      "Version: 2.0.3\n",
      "Summary: Download, model, analyze, and visualize street networks and other geospatial features from OpenStreetMap\n",
      "Home-page: \n",
      "Author: \n",
      "Author-email: Geoff Boeing <boeing@usc.edu>\n",
      "License: MIT License\n",
      "Location: C:\\Users\\banbar\\anaconda3\\Lib\\site-packages\n",
      "Requires: geopandas, networkx, numpy, pandas, requests, shapely\n",
      "Required-by: \n",
      "---\n",
      "Name: networkx\n",
      "Version: 3.1\n",
      "Summary: Python package for creating and manipulating graphs and networks\n",
      "Home-page: https://networkx.org/\n",
      "Author: Aric Hagberg\n",
      "Author-email: hagberg@lanl.gov\n",
      "License: \n",
      "Location: C:\\Users\\banbar\\anaconda3\\Lib\\site-packages\n",
      "Requires: \n",
      "Required-by: osmnx, scikit-image\n",
      "---\n",
      "Name: geopandas\n",
      "Version: 1.0.1\n",
      "Summary: Geographic pandas extensions\n",
      "Home-page: \n",
      "Author: \n",
      "Author-email: Kelsey Jordahl <kjordahl@alum.mit.edu>\n",
      "License: BSD 3-Clause\n",
      "Location: C:\\Users\\banbar\\anaconda3\\Lib\\site-packages\n",
      "Requires: numpy, packaging, pandas, pyogrio, pyproj, shapely\n",
      "Required-by: osmnx, sp211, x2polygons\n",
      "---\n",
      "Name: shapely\n",
      "Version: 2.0.6\n",
      "Summary: Manipulation and analysis of geometric objects\n",
      "Home-page: \n",
      "Author: Sean Gillies\n",
      "Author-email: \n",
      "License: BSD 3-Clause\n",
      "Location: C:\\Users\\banbar\\anaconda3\\Lib\\site-packages\n",
      "Requires: numpy\n",
      "Required-by: geopandas, osmnx, x2polygons\n",
      "---\n",
      "Name: matplotlib\n",
      "Version: 3.8.0\n",
      "Summary: Python plotting package\n",
      "Home-page: https://matplotlib.org\n",
      "Author: John D. Hunter, Michael Droettboom\n",
      "Author-email: matplotlib-users@python.org\n",
      "License: PSF\n",
      "Location: C:\\Users\\banbar\\anaconda3\\Lib\\site-packages\n",
      "Requires: contourpy, cycler, fonttools, kiwisolver, numpy, packaging, pillow, pyparsing, python-dateutil\n",
      "Required-by: seaborn, x2polygons\n",
      "---\n",
      "Name: pandas\n",
      "Version: 2.1.4\n",
      "Summary: Powerful data structures for data analysis, time series, and statistics\n",
      "Home-page: https://pandas.pydata.org\n",
      "Author: \n",
      "Author-email: The Pandas Development Team <pandas-dev@python.org>\n",
      "License: BSD 3-Clause License\n",
      "\n",
      "Copyright (c) 2008-2011, AQR Capital Management, LLC, Lambda Foundry, Inc. and PyData Development Team\n",
      "All rights reserved.\n",
      "\n",
      "Copyright (c) 2011-2023, Open source contributors.\n",
      "\n",
      "Redistribution and use in source and binary forms, with or without\n",
      "modification, are permitted provided that the following conditions are met:\n",
      "\n",
      "* Redistributions of source code must retain the above copyright notice, this\n",
      "  list of conditions and the following disclaimer.\n",
      "\n",
      "* Redistributions in binary form must reproduce the above copyright notice,\n",
      "  this list of conditions and the following disclaimer in the documentation\n",
      "  and/or other materials provided with the distribution.\n",
      "\n",
      "* Neither the name of the copyright holder nor the names of its\n",
      "  contributors may be used to endorse or promote products derived from\n",
      "  this software without specific prior written permission.\n",
      "\n",
      "THIS SOFTWARE IS PROVIDED BY THE COPYRIGHT HOLDERS AND CONTRIBUTORS \"AS IS\"\n",
      "AND ANY EXPRESS OR IMPLIED WARRANTIES, INCLUDING, BUT NOT LIMITED TO, THE\n",
      "IMPLIED WARRANTIES OF MERCHANTABILITY AND FITNESS FOR A PARTICULAR PURPOSE ARE\n",
      "DISCLAIMED. IN NO EVENT SHALL THE COPYRIGHT HOLDER OR CONTRIBUTORS BE LIABLE\n",
      "FOR ANY DIRECT, INDIRECT, INCIDENTAL, SPECIAL, EXEMPLARY, OR CONSEQUENTIAL\n",
      "DAMAGES (INCLUDING, BUT NOT LIMITED TO, PROCUREMENT OF SUBSTITUTE GOODS OR\n",
      "SERVICES; LOSS OF USE, DATA, OR PROFITS; OR BUSINESS INTERRUPTION) HOWEVER\n",
      "CAUSED AND ON ANY THEORY OF LIABILITY, WHETHER IN CONTRACT, STRICT LIABILITY,\n",
      "OR TORT (INCLUDING NEGLIGENCE OR OTHERWISE) ARISING IN ANY WAY OUT OF THE USE\n",
      "OF THIS SOFTWARE, EVEN IF ADVISED OF THE POSSIBILITY OF SUCH DAMAGE.\n",
      "Location: C:\\Users\\banbar\\anaconda3\\Lib\\site-packages\n",
      "Requires: numpy, python-dateutil, pytz, tzdata\n",
      "Required-by: altair, bokeh, datashader, geopandas, holoviews, hvplot, osmnx, panel, seaborn, statsmodels, streamlit, xarray\n",
      "---\n",
      "Name: numpy\n",
      "Version: 1.26.4\n",
      "Summary: Fundamental package for array computing in Python\n",
      "Home-page: https://numpy.org\n",
      "Author: Travis E. Oliphant et al.\n",
      "Author-email: \n",
      "License: Copyright (c) 2005-2023, NumPy Developers.\n",
      "All rights reserved.\n",
      "\n",
      "Redistribution and use in source and binary forms, with or without\n",
      "modification, are permitted provided that the following conditions are\n",
      "met:\n",
      "\n",
      "    * Redistributions of source code must retain the above copyright\n",
      "       notice, this list of conditions and the following disclaimer.\n",
      "\n",
      "    * Redistributions in binary form must reproduce the above\n",
      "       copyright notice, this list of conditions and the following\n",
      "       disclaimer in the documentation and/or other materials provided\n",
      "       with the distribution.\n",
      "\n",
      "    * Neither the name of the NumPy Developers nor the names of any\n",
      "       contributors may be used to endorse or promote products derived\n",
      "       from this software without specific prior written permission.\n",
      "\n",
      "THIS SOFTWARE IS PROVIDED BY THE COPYRIGHT HOLDERS AND CONTRIBUTORS\n",
      "\"AS IS\" AND ANY EXPRESS OR IMPLIED WARRANTIES, INCLUDING, BUT NOT\n",
      "LIMITED TO, THE IMPLIED WARRANTIES OF MERCHANTABILITY AND FITNESS FOR\n",
      "A PARTICULAR PURPOSE ARE DISCLAIMED. IN NO EVENT SHALL THE COPYRIGHT\n",
      "OWNER OR CONTRIBUTORS BE LIABLE FOR ANY DIRECT, INDIRECT, INCIDENTAL,\n",
      "SPECIAL, EXEMPLARY, OR CONSEQUENTIAL DAMAGES (INCLUDING, BUT NOT\n",
      "LIMITED TO, PROCUREMENT OF SUBSTITUTE GOODS OR SERVICES; LOSS OF USE,\n",
      "DATA, OR PROFITS; OR BUSINESS INTERRUPTION) HOWEVER CAUSED AND ON ANY\n",
      "THEORY OF LIABILITY, WHETHER IN CONTRACT, STRICT LIABILITY, OR TORT\n",
      "(INCLUDING NEGLIGENCE OR OTHERWISE) ARISING IN ANY WAY OUT OF THE USE\n",
      "OF THIS SOFTWARE, EVEN IF ADVISED OF THE POSSIBILITY OF SUCH DAMAGE.\n",
      "Location: C:\\Users\\banbar\\anaconda3\\Lib\\site-packages\n",
      "Requires: \n",
      "Required-by: altair, astropy, bokeh, Bottleneck, contourpy, datashader, gensim, geopandas, h5py, holoviews, hvplot, imagecodecs, imageio, imbalanced-learn, laspy, matplotlib, mkl-fft, mkl-random, numba, numexpr, open3d, osmnx, pandas, patsy, pyarrow, pydeck, pyerfa, pyogrio, pywavelets, rasterio, scikit-image, scikit-learn, scipy, seaborn, shapely, snuggs, statsmodels, streamlit, tables, tifffile, x2polygons, xarray\n",
      "Note: you may need to restart the kernel to use updated packages.\n"
     ]
    }
   ],
   "source": [
    "pip show osmnx networkx geopandas shapely matplotlib pandas numpy"
   ]
  },
  {
   "cell_type": "code",
   "execution_count": 10,
   "id": "d95f0255-0419-4edc-b593-e12e6741023c",
   "metadata": {},
   "outputs": [
    {
     "ename": "NameError",
     "evalue": "name 'python' is not defined",
     "output_type": "error",
     "traceback": [
      "\u001b[1;31m---------------------------------------------------------------------------\u001b[0m",
      "\u001b[1;31mNameError\u001b[0m                                 Traceback (most recent call last)",
      "Cell \u001b[1;32mIn[10], line 1\u001b[0m\n\u001b[1;32m----> 1\u001b[0m python \u001b[38;5;241m-\u001b[39m\u001b[38;5;241m-\u001b[39mversion\n",
      "\u001b[1;31mNameError\u001b[0m: name 'python' is not defined"
     ]
    }
   ],
   "source": [
    "python --version"
   ]
  },
  {
   "cell_type": "code",
   "execution_count": 9,
   "id": "2b5927af-d716-4fa0-b424-b1b83ceced98",
   "metadata": {},
   "outputs": [
    {
     "ename": "ImportError",
     "evalue": "cannot import name 'tarfile' from 'backports' (C:\\Users\\banbar\\anaconda3\\Lib\\site-packages\\backports\\__init__.py)",
     "output_type": "error",
     "traceback": [
      "\u001b[1;31m---------------------------------------------------------------------------\u001b[0m",
      "\u001b[1;31mImportError\u001b[0m                               Traceback (most recent call last)",
      "Cell \u001b[1;32mIn[9], line 1\u001b[0m\n\u001b[1;32m----> 1\u001b[0m \u001b[38;5;28;01mimport\u001b[39;00m \u001b[38;5;21;01mpkg_resources\u001b[39;00m\n\u001b[0;32m      2\u001b[0m packages \u001b[38;5;241m=\u001b[39m [\u001b[38;5;124m'\u001b[39m\u001b[38;5;124mosmnx\u001b[39m\u001b[38;5;124m'\u001b[39m, \u001b[38;5;124m'\u001b[39m\u001b[38;5;124mnetworkx\u001b[39m\u001b[38;5;124m'\u001b[39m, \u001b[38;5;124m'\u001b[39m\u001b[38;5;124mgeopandas\u001b[39m\u001b[38;5;124m'\u001b[39m, \u001b[38;5;124m'\u001b[39m\u001b[38;5;124mshapely\u001b[39m\u001b[38;5;124m'\u001b[39m, \u001b[38;5;124m'\u001b[39m\u001b[38;5;124mmatplotlib\u001b[39m\u001b[38;5;124m'\u001b[39m, \u001b[38;5;124m'\u001b[39m\u001b[38;5;124mpandas\u001b[39m\u001b[38;5;124m'\u001b[39m, \u001b[38;5;124m'\u001b[39m\u001b[38;5;124mnumpy\u001b[39m\u001b[38;5;124m'\u001b[39m]\n\u001b[0;32m      3\u001b[0m \u001b[38;5;28;01mfor\u001b[39;00m pkg \u001b[38;5;129;01min\u001b[39;00m packages:\n",
      "File \u001b[1;32m~\\anaconda3\\Lib\\site-packages\\pkg_resources\\__init__.py:90\u001b[0m\n\u001b[0;32m     88\u001b[0m \u001b[38;5;28;01mimport\u001b[39;00m \u001b[38;5;21;01mpackaging\u001b[39;00m\u001b[38;5;21;01m.\u001b[39;00m\u001b[38;5;21;01mutils\u001b[39;00m\n\u001b[0;32m     89\u001b[0m \u001b[38;5;28;01mimport\u001b[39;00m \u001b[38;5;21;01mpackaging\u001b[39;00m\u001b[38;5;21;01m.\u001b[39;00m\u001b[38;5;21;01mversion\u001b[39;00m\n\u001b[1;32m---> 90\u001b[0m \u001b[38;5;28;01mfrom\u001b[39;00m \u001b[38;5;21;01mjaraco\u001b[39;00m\u001b[38;5;21;01m.\u001b[39;00m\u001b[38;5;21;01mtext\u001b[39;00m \u001b[38;5;28;01mimport\u001b[39;00m drop_comment, join_continuation, yield_lines\n\u001b[0;32m     91\u001b[0m \u001b[38;5;28;01mfrom\u001b[39;00m \u001b[38;5;21;01mplatformdirs\u001b[39;00m \u001b[38;5;28;01mimport\u001b[39;00m user_cache_dir \u001b[38;5;28;01mas\u001b[39;00m _user_cache_dir\n\u001b[0;32m     93\u001b[0m \u001b[38;5;28;01mif\u001b[39;00m TYPE_CHECKING:\n",
      "File \u001b[1;32m~\\anaconda3\\Lib\\site-packages\\setuptools\\_vendor\\jaraco\\text\\__init__.py:12\u001b[0m\n\u001b[0;32m      9\u001b[0m     \u001b[38;5;28;01mfrom\u001b[39;00m \u001b[38;5;21;01mimportlib_resources\u001b[39;00m \u001b[38;5;28;01mimport\u001b[39;00m files  \u001b[38;5;66;03m# type: ignore\u001b[39;00m\n\u001b[0;32m     11\u001b[0m \u001b[38;5;28;01mfrom\u001b[39;00m \u001b[38;5;21;01mjaraco\u001b[39;00m\u001b[38;5;21;01m.\u001b[39;00m\u001b[38;5;21;01mfunctools\u001b[39;00m \u001b[38;5;28;01mimport\u001b[39;00m compose, method_cache\n\u001b[1;32m---> 12\u001b[0m \u001b[38;5;28;01mfrom\u001b[39;00m \u001b[38;5;21;01mjaraco\u001b[39;00m\u001b[38;5;21;01m.\u001b[39;00m\u001b[38;5;21;01mcontext\u001b[39;00m \u001b[38;5;28;01mimport\u001b[39;00m ExceptionTrap\n\u001b[0;32m     15\u001b[0m \u001b[38;5;28;01mdef\u001b[39;00m \u001b[38;5;21msubstitution\u001b[39m(old, new):\n\u001b[0;32m     16\u001b[0m \u001b[38;5;250m    \u001b[39m\u001b[38;5;124;03m\"\"\"\u001b[39;00m\n\u001b[0;32m     17\u001b[0m \u001b[38;5;124;03m    Return a function that will perform a substitution on a string\u001b[39;00m\n\u001b[0;32m     18\u001b[0m \u001b[38;5;124;03m    \"\"\"\u001b[39;00m\n",
      "File \u001b[1;32m~\\anaconda3\\Lib\\site-packages\\setuptools\\_vendor\\jaraco\\context.py:17\u001b[0m\n\u001b[0;32m     13\u001b[0m \u001b[38;5;28;01mfrom\u001b[39;00m \u001b[38;5;21;01mtyping\u001b[39;00m \u001b[38;5;28;01mimport\u001b[39;00m Iterator\n\u001b[0;32m     16\u001b[0m \u001b[38;5;28;01mif\u001b[39;00m sys\u001b[38;5;241m.\u001b[39mversion_info \u001b[38;5;241m<\u001b[39m (\u001b[38;5;241m3\u001b[39m, \u001b[38;5;241m12\u001b[39m):\n\u001b[1;32m---> 17\u001b[0m     \u001b[38;5;28;01mfrom\u001b[39;00m \u001b[38;5;21;01mbackports\u001b[39;00m \u001b[38;5;28;01mimport\u001b[39;00m tarfile\n\u001b[0;32m     18\u001b[0m \u001b[38;5;28;01melse\u001b[39;00m:\n\u001b[0;32m     19\u001b[0m     \u001b[38;5;28;01mimport\u001b[39;00m \u001b[38;5;21;01mtarfile\u001b[39;00m\n",
      "\u001b[1;31mImportError\u001b[0m: cannot import name 'tarfile' from 'backports' (C:\\Users\\banbar\\anaconda3\\Lib\\site-packages\\backports\\__init__.py)"
     ]
    }
   ],
   "source": [
    "import pkg_resources\n",
    "packages = ['osmnx', 'networkx', 'geopandas', 'shapely', 'matplotlib', 'pandas', 'numpy']\n",
    "for pkg in packages:\n",
    "    print(f\"{pkg}=={pkg_resources.get_distribution(pkg).version}\")\n"
   ]
  },
  {
   "cell_type": "code",
   "execution_count": 1,
   "id": "fbd29682-55b8-4f08-901c-99455fd1afab",
   "metadata": {},
   "outputs": [],
   "source": [
    "# Import packages\n",
    "import osmnx as ox\n",
    "import networkx as nx\n",
    "import geopandas as gpd\n",
    "from shapely.geometry import Point\n",
    "import matplotlib.pyplot as plt\n"
   ]
  },
  {
   "cell_type": "code",
   "execution_count": 2,
   "id": "270fbe86-f76b-44f9-ba4c-a197b0f82d29",
   "metadata": {},
   "outputs": [],
   "source": [
    "# Could be turned to False\n",
    "# In that case \"file_all_network\" will be used.\n",
    "download_data = True "
   ]
  },
  {
   "cell_type": "code",
   "execution_count": 3,
   "id": "281aea89-e0ea-446c-9ec8-b2fc2cc0f986",
   "metadata": {},
   "outputs": [],
   "source": [
    "# The associated files\n",
    "file_study_region = \"study_region.geojson\"\n",
    "file_all_network = \"saved_network.graphml\" # the file saved, when download data is selected\n",
    "file_nodes = \"nodes.geojson\"\n",
    "file_edges = \"edges_geojson\"\n",
    "file_dead_ends = \"dead_ends.geojson\"\n",
    "epsg_roi = 32636 # WGS 84 / UTM zone 36N"
   ]
  },
  {
   "cell_type": "code",
   "execution_count": 4,
   "id": "76c0258a-8dee-4772-91b1-25cd495eb107",
   "metadata": {},
   "outputs": [
    {
     "name": "stdout",
     "output_type": "stream",
     "text": [
      "Study area: 2.17 km²\n"
     ]
    }
   ],
   "source": [
    "if(download_data):\n",
    "    # Load polygon and download network\n",
    "    gdf = gpd.read_file(\"study_region.geojson\")  # Replace with your shapefile or GeoJSON\n",
    "    gdf_proj = gdf.to_crs(epsg=epsg_roi)  # replace EPSG with correct UTM for your area\n",
    "    area_km2 = gdf_proj.geometry.area.sum() / 1e6\n",
    "    print(f\"Study area: {area_km2:.2f} km²\") # 2.17 km^2\n",
    "    polygon = gdf.geometry.union_all()\n",
    "    \n",
    "    G = ox.graph_from_polygon(polygon, network_type=\"all\")\n",
    "    ox.save_graphml(G, filepath=file_all_network)\n",
    "    \n",
    "    nodes, edges = ox.graph_to_gdfs(G)\n",
    "    G_undirected = G.to_undirected()\n",
    "    nodes.to_file(\"nodes.geojson\", driver=\"GeoJSON\")\n",
    "    edges.to_file(\"edges.geojson\", driver=\"GeoJSON\")"
   ]
  },
  {
   "cell_type": "code",
   "execution_count": 5,
   "id": "503faa29-1cd5-4881-8b16-b1d71b3e70f2",
   "metadata": {
    "scrolled": true
   },
   "outputs": [
    {
     "name": "stdout",
     "output_type": "stream",
     "text": [
      "# Nodes:  681\n",
      "# of Edges:  1664\n",
      "Connected component: 100.0\n",
      "Total network length: 75.82 km\n",
      "Bicycle path length: 0.00 km (0.00%)\n",
      "Pedestrian path length: 29.21 km (38.52%)\n",
      "Avg node degree: 2.67\n",
      "Name-tag completeness (%):  10.76\n"
     ]
    }
   ],
   "source": [
    "G = ox.load_graphml(file_all_network)\n",
    "G_undirected = G.to_undirected()\n",
    "\n",
    "nodes, edges = ox.graph_to_gdfs(G)\n",
    "num_nodes = len(nodes)\n",
    "num_edges = len(edges)\n",
    "\n",
    "# Overall statistics\n",
    "print(\"# Nodes: \", num_nodes)\n",
    "print(\"# of Edges: \", num_edges)\n",
    "\n",
    "# Connected components\n",
    "comps = list(nx.connected_components(G_undirected))\n",
    "num_components = len(comps)\n",
    "largest = max(len(c) for c in comps)\n",
    "largest_pct = largest / num_nodes * 100\n",
    "print(\"Connected component:\",  largest_pct)\n",
    "\n",
    "\n",
    "edges_proj = edges.to_crs(epsg=epsg_roi)  \n",
    "lengths = edges_proj.geometry.length\n",
    "total_length_m = lengths.sum()\n",
    "\n",
    "if 'cycleway' in edges_proj.columns:\n",
    "    bike_lane_len = edges_proj.loc[edges_proj['cycleway'].notna()].geometry.length.sum()\n",
    "else:\n",
    "    bike_lane_len = 0.0\n",
    "\n",
    "bike_pct = (bike_lane_len / total_length_m) * 100\n",
    "\n",
    "pedestrian_types = ['footway', 'pedestrian', 'path', 'living_street']\n",
    "ped_len = edges_proj.loc[edges_proj['highway'].isin(pedestrian_types)].geometry.length.sum()\n",
    "\n",
    "ped_pct = (ped_len / total_length_m) * 100\n",
    "\n",
    "print(f\"Total network length: {total_length_m/1000:.2f} km\")\n",
    "print(f\"Bicycle path length: {bike_lane_len/1000:.2f} km ({bike_pct:.2f}%)\")\n",
    "print(f\"Pedestrian path length: {ped_len/1000:.2f} km ({ped_pct:.2f}%)\")\n",
    "\n",
    "# Node degree analysis (dead-ends: degree = 1)\n",
    "degrees = [d for _, d in G_undirected.degree()]\n",
    "avg_degree = sum(degrees) / num_nodes\n",
    "print(f\"Avg node degree: {avg_degree:.2f}\")\n",
    "\n",
    "\n",
    "\n",
    "#Name-tag completeness\n",
    "name_pct = edges['name'].notna().mean() * 100\n",
    "print(\"Name-tag completeness (%): \", round(name_pct, 2))\n",
    "\n",
    "\n",
    "\n",
    "\n"
   ]
  },
  {
   "cell_type": "markdown",
   "id": "dac81a0d-17a7-4d29-8d41-6ac946902b2f",
   "metadata": {},
   "source": [
    "# Dead end node analysis"
   ]
  },
  {
   "cell_type": "code",
   "execution_count": 6,
   "id": "02a31d80-00f0-4231-8d28-1667d7850064",
   "metadata": {},
   "outputs": [
    {
     "name": "stdout",
     "output_type": "stream",
     "text": [
      "Total dead-ends: 165  (24.23%)\n"
     ]
    }
   ],
   "source": [
    "# Export dead-ends\n",
    "dead_ends = [n for n, d in G_undirected.degree() if d == 1]\n",
    "\n",
    "# Create GeoDataFrame\n",
    "geometries = [Point((G.nodes[n]['x'], G.nodes[n]['y'])) for n in dead_ends]\n",
    "gdf = gpd.GeoDataFrame({'node': dead_ends}, geometry=geometries, crs='EPSG:4326')\n",
    "print(f\"Total dead-ends: {len(dead_ends)}  ({(len(dead_ends) / num_nodes)*100:.2f}%)\")\n",
    "\n",
    "# Save to GeoJSON\n",
    "gdf.to_file(file_dead_ends, driver=\"GeoJSON\")\n"
   ]
  },
  {
   "cell_type": "code",
   "execution_count": null,
   "id": "27ded655-6ba1-4ad7-b2fa-9153ac87da1e",
   "metadata": {},
   "outputs": [],
   "source": []
  }
 ],
 "metadata": {
  "kernelspec": {
   "display_name": "Python 3 (ipykernel)",
   "language": "python",
   "name": "python3"
  },
  "language_info": {
   "codemirror_mode": {
    "name": "ipython",
    "version": 3
   },
   "file_extension": ".py",
   "mimetype": "text/x-python",
   "name": "python",
   "nbconvert_exporter": "python",
   "pygments_lexer": "ipython3",
   "version": "3.11.7"
  }
 },
 "nbformat": 4,
 "nbformat_minor": 5
}
