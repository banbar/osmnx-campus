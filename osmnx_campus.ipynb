{
 "cells": [
  {
   "cell_type": "markdown",
   "id": "6b7a5f34-5551-4b31-851a-0e948e48bb81",
   "metadata": {},
   "source": [
    "# OSMnx Analysis\n",
    "This analysis is useful to observe the overall structure and situation of the road network by relying on OSMnx. \n",
    "Specifically, dead-end nodes should be examined to determine where OSM updates are needed."
   ]
  },
  {
   "cell_type": "code",
   "execution_count": 1,
   "id": "fbd29682-55b8-4f08-901c-99455fd1afab",
   "metadata": {},
   "outputs": [],
   "source": [
    "# Import packages\n",
    "import osmnx as ox\n",
    "import networkx as nx\n",
    "import geopandas as gpd\n",
    "from shapely.geometry import Point\n",
    "import matplotlib.pyplot as plt\n",
    "\n"
   ]
  },
  {
   "cell_type": "code",
   "execution_count": 2,
   "id": "270fbe86-f76b-44f9-ba4c-a197b0f82d29",
   "metadata": {},
   "outputs": [],
   "source": [
    "# Could be turned to False\n",
    "# In that case \"file_all_network\" will be used.\n",
    "download_data = True "
   ]
  },
  {
   "cell_type": "code",
   "execution_count": 3,
   "id": "281aea89-e0ea-446c-9ec8-b2fc2cc0f986",
   "metadata": {},
   "outputs": [],
   "source": [
    "# The associated files\n",
    "file_study_region = \"study_region.geojson\"\n",
    "file_all_network = \"saved_network.graphml\" # the file saved, when download data is selected\n",
    "file_nodes = \"nodes.geojson\"\n",
    "file_edges = \"edges_geojson\"\n",
    "file_dead_ends = \"dead_ends.geojson\"\n",
    "epsg_roi = 32636 # WGS 84 / UTM zone 36N"
   ]
  },
  {
   "cell_type": "code",
   "execution_count": 4,
   "id": "76c0258a-8dee-4772-91b1-25cd495eb107",
   "metadata": {},
   "outputs": [
    {
     "name": "stdout",
     "output_type": "stream",
     "text": [
      "Study area: 2.17 km²\n"
     ]
    }
   ],
   "source": [
    "if(download_data):\n",
    "    # Load polygon and download network\n",
    "    gdf = gpd.read_file(\"study_region.geojson\")  # Replace with your shapefile or GeoJSON\n",
    "    gdf_proj = gdf.to_crs(epsg=epsg_roi)  # replace EPSG with correct UTM for your area\n",
    "    area_km2 = gdf_proj.geometry.area.sum() / 1e6\n",
    "    print(f\"Study area: {area_km2:.2f} km²\") # 2.17 km^2\n",
    "    polygon = gdf.geometry.union_all()\n",
    "    \n",
    "    G = ox.graph_from_polygon(polygon, network_type=\"all\")\n",
    "    ox.save_graphml(G, filepath=file_all_network)\n",
    "    \n",
    "    nodes, edges = ox.graph_to_gdfs(G)\n",
    "    G_undirected = G.to_undirected()\n",
    "    nodes.to_file(\"nodes.geojson\", driver=\"GeoJSON\")\n",
    "    edges.to_file(\"edges.geojson\", driver=\"GeoJSON\")"
   ]
  },
  {
   "cell_type": "code",
   "execution_count": 5,
   "id": "503faa29-1cd5-4881-8b16-b1d71b3e70f2",
   "metadata": {
    "scrolled": true
   },
   "outputs": [
    {
     "name": "stdout",
     "output_type": "stream",
     "text": [
      "# Nodes:  681\n",
      "# of Edges:  1664\n",
      "Connected component: 100.0\n",
      "Total network length: 75.82 km\n",
      "Bicycle path length: 0.00 km (0.00%)\n",
      "Pedestrian path length: 29.21 km (38.52%)\n",
      "Avg node degree: 2.67\n",
      "Name-tag completeness (%):  10.76\n"
     ]
    }
   ],
   "source": [
    "G = ox.load_graphml(file_all_network)\n",
    "G_undirected = G.to_undirected()\n",
    "\n",
    "nodes, edges = ox.graph_to_gdfs(G)\n",
    "num_nodes = len(nodes)\n",
    "num_edges = len(edges)\n",
    "\n",
    "# Overall statistics\n",
    "print(\"# Nodes: \", num_nodes)\n",
    "print(\"# of Edges: \", num_edges)\n",
    "\n",
    "# Connected components\n",
    "comps = list(nx.connected_components(G_undirected))\n",
    "num_components = len(comps)\n",
    "largest = max(len(c) for c in comps)\n",
    "largest_pct = largest / num_nodes * 100\n",
    "print(\"Connected component:\",  largest_pct)\n",
    "\n",
    "\n",
    "edges_proj = edges.to_crs(epsg=epsg_roi)  \n",
    "lengths = edges_proj.geometry.length\n",
    "total_length_m = lengths.sum()\n",
    "\n",
    "if 'cycleway' in edges_proj.columns:\n",
    "    bike_lane_len = edges_proj.loc[edges_proj['cycleway'].notna()].geometry.length.sum()\n",
    "else:\n",
    "    bike_lane_len = 0.0\n",
    "\n",
    "bike_pct = (bike_lane_len / total_length_m) * 100\n",
    "\n",
    "pedestrian_types = ['footway', 'pedestrian', 'path', 'living_street']\n",
    "ped_len = edges_proj.loc[edges_proj['highway'].isin(pedestrian_types)].geometry.length.sum()\n",
    "\n",
    "ped_pct = (ped_len / total_length_m) * 100\n",
    "\n",
    "print(f\"Total network length: {total_length_m/1000:.2f} km\")\n",
    "print(f\"Bicycle path length: {bike_lane_len/1000:.2f} km ({bike_pct:.2f}%)\")\n",
    "print(f\"Pedestrian path length: {ped_len/1000:.2f} km ({ped_pct:.2f}%)\")\n",
    "\n",
    "# Node degree analysis (dead-ends: degree = 1)\n",
    "degrees = [d for _, d in G_undirected.degree()]\n",
    "avg_degree = sum(degrees) / num_nodes\n",
    "print(f\"Avg node degree: {avg_degree:.2f}\")\n",
    "\n",
    "\n",
    "\n",
    "#Name-tag completeness\n",
    "name_pct = edges['name'].notna().mean() * 100\n",
    "print(\"Name-tag completeness (%): \", round(name_pct, 2))\n",
    "\n",
    "\n",
    "\n",
    "\n"
   ]
  },
  {
   "cell_type": "markdown",
   "id": "dac81a0d-17a7-4d29-8d41-6ac946902b2f",
   "metadata": {},
   "source": [
    "# Dead end node analysis"
   ]
  },
  {
   "cell_type": "code",
   "execution_count": 6,
   "id": "02a31d80-00f0-4231-8d28-1667d7850064",
   "metadata": {},
   "outputs": [
    {
     "name": "stdout",
     "output_type": "stream",
     "text": [
      "Total dead-ends: 165  (24.23%)\n"
     ]
    }
   ],
   "source": [
    "# Export dead-ends\n",
    "dead_ends = [n for n, d in G_undirected.degree() if d == 1]\n",
    "\n",
    "# Create GeoDataFrame\n",
    "geometries = [Point((G.nodes[n]['x'], G.nodes[n]['y'])) for n in dead_ends]\n",
    "gdf = gpd.GeoDataFrame({'node': dead_ends}, geometry=geometries, crs='EPSG:4326')\n",
    "print(f\"Total dead-ends: {len(dead_ends)}  ({(len(dead_ends) / num_nodes)*100:.2f}%)\")\n",
    "\n",
    "# Save to GeoJSON\n",
    "gdf.to_file(file_dead_ends, driver=\"GeoJSON\")\n"
   ]
  },
  {
   "cell_type": "code",
   "execution_count": null,
   "id": "27ded655-6ba1-4ad7-b2fa-9153ac87da1e",
   "metadata": {},
   "outputs": [],
   "source": []
  }
 ],
 "metadata": {
  "kernelspec": {
   "display_name": "base",
   "language": "python",
   "name": "python3"
  },
  "language_info": {
   "codemirror_mode": {
    "name": "ipython",
    "version": 3
   },
   "file_extension": ".py",
   "mimetype": "text/x-python",
   "name": "python",
   "nbconvert_exporter": "python",
   "pygments_lexer": "ipython3",
   "version": "3.11.7"
  }
 },
 "nbformat": 4,
 "nbformat_minor": 5
}
